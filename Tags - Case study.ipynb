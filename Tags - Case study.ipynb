{
 "cells": [
  {
   "cell_type": "code",
   "execution_count": 14,
   "metadata": {},
   "outputs": [],
   "source": [
    "import pandas as pd\n",
    "import numpy as np\n",
    "import glob\n",
    "import datetime\n",
    "from tqdm.notebook import tqdm_notebook\n",
    "import matplotlib.pyplot as plt\n",
    "pd.set_option('display.max_columns', None)"
   ]
  },
  {
   "cell_type": "markdown",
   "metadata": {},
   "source": [
    "# Analyzing the tags on a given day\n",
    "This notebooks uses the tags given to an article to make zoomed in analysis of articles published on a given day. We analyze the articles’ tags on three dates: The announcement of the lockdown, Prince Charles testing positive on Coronavirus and Johnson’s hospitalization. For each date we are going to collect all the articles and then proceed in two steps: \n",
    "First of doing descriptive analysis of the articles that day and then secondly, creating an network of tags for all the articles on that date.\n",
    "At the moment we only possess a dataset which queried specifically for only coronarelated articles. We will solve this later on.\n",
    "\n",
    "The cell below import the tagsToArticle dataset and corrects the type of certain columns."
   ]
  },
  {
   "cell_type": "code",
   "execution_count": 49,
   "metadata": {},
   "outputs": [],
   "source": [
    "tagsToArticle = pd.read_json('tags_articles.json')\n",
    "tagsToArticle.article_webPublicationDate = pd.to_datetime(tagsToArticle.article_webPublicationDate, \n",
    "                                                          unit='ms')\n",
    "tagsToArticle['publicationDay'] = tagsToArticle.article_webPublicationDate.dt.date\n",
    "tagsToArticle.head()"
   ]
  },
  {
   "cell_type": "markdown",
   "metadata": {},
   "source": [
    "### 23rd of March (Lockdown announced by Boris Johnson): \n",
    "The first cell below carries out the specified descriptive analysis on all the articles published on the 23rd of march and their respective tags. As you can see, the Guardian published a total of 128 articles that given day and used a total of 1638 tags, by using 481 different tags. The top ten used keyword tags can be seen below."
   ]
  },
  {
   "cell_type": "code",
   "execution_count": 78,
   "metadata": {},
   "outputs": [
    {
     "name": "stdout",
     "output_type": "stream",
     "text": [
      "Number of articles published on 23-03-2020: 128\n",
      "Number of different tags and total used tags: 481 & 1638\n",
      "Top 10 used keywords:\n",
      "world/coronavirus-outbreak    77.34375\n",
      "uk/uk                         52.34375\n",
      "world/world                   32.81250\n",
      "science/infectiousdiseases    31.25000\n",
      "politics/politics             17.96875\n",
      "society/health                15.62500\n",
      "society/society               15.62500\n",
      "culture/culture               14.84375\n",
      "science/science               14.84375\n",
      "business/business             12.50000\n",
      "Name: id, dtype: float64\n",
      "\n",
      "What kind of content was published?\n",
      "type/article    100.0\n",
      "Name: id, dtype: float64\n"
     ]
    }
   ],
   "source": [
    "date = datetime.date(2020, 3, 23)\n",
    "tagsToArticleDay = tagsToArticle[tagsToArticle.publicationDay == date]\n",
    "num_of_articles = len(tagsToArticleDay.article_id.unique())\n",
    "num_of_tags = len(tagsToArticleDay.id.unique())\n",
    "print(f\"Number of articles published on {date.strftime('%d-%m-%Y')}: {num_of_articles}\")\n",
    "print(f\"Number of different tags and total used tags: {num_of_tags} & {len(tagsToArticleDay)}\")\n",
    "print('Top 10 used keywords:')\n",
    "print(tagsToArticleDay[tagsToArticleDay.type =='keyword'].id.value_counts()[:10]/num_of_articles * 100)\n",
    "print('\\nWhat kind of content was published?')\n",
    "print(tagsToArticleDay[tagsToArticleDay.type == 'type'].id.value_counts()/num_of_articles * 100)"
   ]
  },
  {
   "cell_type": "markdown",
   "metadata": {},
   "source": [
    "### 25th of March (prince Charles tests positive for Coronavirus): \n",
    "The first cell below carries out the specified descriptive analysis on all the articles published on the 25th of march and their respective tags. As you can see, the Guardian published a total of 141 articles that given day and used a total of 1861 tags, by using 566 different tags. The top ten used keyword tags can be seen below."
   ]
  },
  {
   "cell_type": "code",
   "execution_count": 79,
   "metadata": {},
   "outputs": [
    {
     "name": "stdout",
     "output_type": "stream",
     "text": [
      "Number of articles published on 25-03-2020: 141\n",
      "Number of different tags and total used tags: 566 & 1861\n",
      "Top 10 used keywords:\n",
      "world/coronavirus-outbreak    82.269504\n",
      "uk/uk                         46.099291\n",
      "world/world                   31.205674\n",
      "science/infectiousdiseases    22.695035\n",
      "society/society               19.148936\n",
      "business/business             17.021277\n",
      "society/health                14.893617\n",
      "culture/culture               14.184397\n",
      "politics/politics             14.184397\n",
      "society/nhs                   10.638298\n",
      "Name: id, dtype: float64\n",
      "\n",
      "What kind of content was published?\n",
      "type/article    100.0\n",
      "Name: id, dtype: float64\n"
     ]
    }
   ],
   "source": [
    "date = datetime.date(2020, 3, 25)\n",
    "tagsToArticleDay = tagsToArticle[tagsToArticle.publicationDay == date]\n",
    "num_of_articles = len(tagsToArticleDay.article_id.unique())\n",
    "num_of_tags = len(tagsToArticleDay.id.unique())\n",
    "print(f\"Number of articles published on {date.strftime('%d-%m-%Y')}: {num_of_articles}\")\n",
    "print(f\"Number of different tags and total used tags: {num_of_tags} & {len(tagsToArticleDay)}\")\n",
    "print('Top 10 used keywords:')\n",
    "print(tagsToArticleDay[tagsToArticleDay.type =='keyword'].id.value_counts()[:10]/num_of_articles * 100)\n",
    "print('\\nWhat kind of content was published?')\n",
    "print(tagsToArticleDay[tagsToArticleDay.type == 'type'].id.value_counts()/num_of_articles * 100)"
   ]
  },
  {
   "cell_type": "markdown",
   "metadata": {},
   "source": [
    "### 6th of April (Boris Johnson admitted to Hospital)\n",
    "The first cell below carries out the specified descriptive analysis on all the articles published on the 6th of april and their respective tags. As you can see, the Guardian published a total of 46 articles that given day and used a total of 574 tags, by using 221 different tags. The top ten used keyword tags can be seen below."
   ]
  },
  {
   "cell_type": "code",
   "execution_count": 80,
   "metadata": {},
   "outputs": [
    {
     "name": "stdout",
     "output_type": "stream",
     "text": [
      "Number of articles published on 28-03-2020: 46\n",
      "Number of different tags and total used tags: 221 & 574\n",
      "Top 10 used keywords:\n",
      "world/coronavirus-outbreak    91.304348\n",
      "uk/uk                         50.000000\n",
      "world/world                   43.478261\n",
      "society/society               30.434783\n",
      "science/infectiousdiseases    19.565217\n",
      "society/health                17.391304\n",
      "culture/culture               15.217391\n",
      "world/italy                   13.043478\n",
      "world/spain                   10.869565\n",
      "world/europe-news             10.869565\n",
      "Name: id, dtype: float64\n",
      "\n",
      "What kind of content was published?\n",
      "type/article    100.0\n",
      "Name: id, dtype: float64\n"
     ]
    }
   ],
   "source": [
    "date = datetime.date(2020, 3, 28)\n",
    "tagsToArticleDay = tagsToArticle[tagsToArticle.publicationDay == date]\n",
    "num_of_articles = len(tagsToArticleDay.article_id.unique())\n",
    "num_of_tags = len(tagsToArticleDay.id.unique())\n",
    "print(f\"Number of articles published on {date.strftime('%d-%m-%Y')}: {num_of_articles}\")\n",
    "print(f\"Number of different tags and total used tags: {num_of_tags} & {len(tagsToArticleDay)}\")\n",
    "print('Top 10 used keywords:')\n",
    "print(tagsToArticleDay[tagsToArticleDay.type =='keyword'].id.value_counts()[:10]/num_of_articles * 100)\n",
    "print('\\nWhat kind of content was published?')\n",
    "print(tagsToArticleDay[tagsToArticleDay.type == 'type'].id.value_counts()/num_of_articles * 100)"
   ]
  }
 ],
 "metadata": {
  "kernelspec": {
   "display_name": "Python 3",
   "language": "python",
   "name": "python3"
  },
  "language_info": {
   "codemirror_mode": {
    "name": "ipython",
    "version": 3
   },
   "file_extension": ".py",
   "mimetype": "text/x-python",
   "name": "python",
   "nbconvert_exporter": "python",
   "pygments_lexer": "ipython3",
   "version": "3.7.7"
  }
 },
 "nbformat": 4,
 "nbformat_minor": 4
}
