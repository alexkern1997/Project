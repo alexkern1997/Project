{
 "cells": [
  {
   "cell_type": "code",
   "execution_count": 1,
   "metadata": {},
   "outputs": [
    {
     "name": "stderr",
     "output_type": "stream",
     "text": [
      "D:\\Anaconda\\envs\\project\\lib\\site-packages\\tqdm\\std.py:668: FutureWarning: The Panel class is removed from pandas. Accessing it from the top-level namespace will also be removed in the next version\n",
      "  from pandas import Panel\n"
     ]
    }
   ],
   "source": [
    "import pandas as pd\n",
    "import numpy as np\n",
    "from tqdm import tqdm, tqdm_notebook\n",
    "from nltk import word_tokenize\n",
    "from nltk.corpus import sentiwordnet as swn\n",
    "from string import punctuation\n",
    "import matplotlib.pyplot as plt\n",
    "from nltk.corpus import stopwords\n",
    "tqdm.pandas(tqdm_notebook)"
   ]
  },
  {
   "cell_type": "markdown",
   "metadata": {},
   "source": [
    "# Sentiment analysis on the articles\n",
    "This notebook implements a naive sentiment analysis on our dataset. Naive sentiment analysis employs the dictionary method to assign a sentiment to each word. By using the Sentiwordnet, it not only takes into account the actual word but also the word meaning. The cell below loads in our article dataset and also corrects the type of certain columns."
   ]
  },
  {
   "cell_type": "code",
   "execution_count": 2,
   "metadata": {},
   "outputs": [],
   "source": [
    "articles = pd.read_json('articles.json')\n",
    "articles.publicationDay = pd.to_datetime(articles.publicationDay, unit='ms')\n",
    "articles.publicationWeek = pd.to_datetime(articles.publicationWeek, unit='ms')"
   ]
  },
  {
   "cell_type": "markdown",
   "metadata": {},
   "source": [
    "In the next cell we create a set of english stopwords and also a list of punctuation symbols. These combined list of words will be entirely ignored when calculating polarities. Each word will be ignored when using this list."
   ]
  },
  {
   "cell_type": "code",
   "execution_count": 3,
   "metadata": {},
   "outputs": [],
   "source": [
    "stopwords=set(stopwords.words('english')+list(punctuation))"
   ]
  },
  {
   "cell_type": "code",
   "execution_count": 4,
   "metadata": {},
   "outputs": [],
   "source": [
    "def remove_words(article):\n",
    "    article = word_tokenize(article)\n",
    "    return [word for word in article if not word in stopwords]"
   ]
  },
  {
   "cell_type": "markdown",
   "metadata": {},
   "source": [
    "In the next cell we create a function which we can give the text of an article. This function will look at each word in article. Each word will get a sentiment-score `weight` for each different meaning of the word in the dictonary. These weights are then averaged and added to the total article polarity `articlePolarity` which represents the cumulative averaged sentiment score of each word."
   ]
  },
  {
   "cell_type": "code",
   "execution_count": 5,
   "metadata": {},
   "outputs": [],
   "source": [
    "def naiveSentiment(article):\n",
    "    articlePolarity = 0\n",
    "    numExceptions = 0\n",
    "    for word in article:\n",
    "        word = word.lower()\n",
    "        numMeanings = 0\n",
    "        weight = 0.0\n",
    "        try:\n",
    "            for meaning in swn.senti_synsets(word):\n",
    "                if meaning.pos_score() > meaning.neg_score():\n",
    "                    weight += (meaning.pos_score() - meaning.neg_score())\n",
    "                    numMeanings += 1\n",
    "                elif meaning.pos_score() < meaning.neg_score():\n",
    "                    weight -= (meaning.neg_score() - meaning.pos_score())\n",
    "                    numMeanings += 1\n",
    "        except:\n",
    "            numExceptions += 1\n",
    "        if numMeanings > 0:\n",
    "            articlePolarity += (weight/numMeanings)\n",
    "    return articlePolarity"
   ]
  },
  {
   "cell_type": "markdown",
   "metadata": {},
   "source": [
    "## Sentiment analysis on full text"
   ]
  },
  {
   "cell_type": "code",
   "execution_count": 6,
   "metadata": {},
   "outputs": [
    {
     "name": "stderr",
     "output_type": "stream",
     "text": [
      "100%|██████████████████████████████████████████████████████████████████████████████| 9172/9172 [01:39<00:00, 92.06it/s]\n"
     ]
    }
   ],
   "source": [
    "articles['filteredbodyText'] = articles.bodyText.progress_apply(remove_words)\n",
    "articles['filteredwordcount'] = articles.filteredbodyText.apply(len)"
   ]
  },
  {
   "cell_type": "code",
   "execution_count": 7,
   "metadata": {},
   "outputs": [
    {
     "name": "stderr",
     "output_type": "stream",
     "text": [
      "100%|██████████████████████████████████████████████████████████████████████████████| 9172/9172 [07:52<00:00, 19.40it/s]\n"
     ]
    }
   ],
   "source": [
    "articles['articlePolarity'] = articles.filteredbodyText.progress_apply(naiveSentiment)"
   ]
  },
  {
   "cell_type": "code",
   "execution_count": 8,
   "metadata": {},
   "outputs": [
    {
     "data": {
      "text/plain": [
       "count    9172.000000\n",
       "mean       14.425379\n",
       "std        26.711636\n",
       "min       -39.307281\n",
       "25%         5.161581\n",
       "50%        10.097014\n",
       "75%        16.349156\n",
       "max       582.724918\n",
       "Name: articlePolarity, dtype: float64"
      ]
     },
     "execution_count": 8,
     "metadata": {},
     "output_type": "execute_result"
    }
   ],
   "source": [
    "articles.articlePolarity.describe()"
   ]
  },
  {
   "cell_type": "code",
   "execution_count": 9,
   "metadata": {},
   "outputs": [],
   "source": [
    "articles['articlePolarityNormalized'] = articles.articlePolarity / articles.filteredwordcount"
   ]
  },
  {
   "cell_type": "code",
   "execution_count": 10,
   "metadata": {},
   "outputs": [
    {
     "data": {
      "text/plain": [
       "count    9172.000000\n",
       "mean        0.024517\n",
       "std         0.016790\n",
       "min        -0.055556\n",
       "25%         0.013485\n",
       "50%         0.024184\n",
       "75%         0.035136\n",
       "max         0.105938\n",
       "Name: articlePolarityNormalized, dtype: float64"
      ]
     },
     "execution_count": 10,
     "metadata": {},
     "output_type": "execute_result"
    }
   ],
   "source": [
    "articles.articlePolarityNormalized.describe()"
   ]
  },
  {
   "cell_type": "markdown",
   "metadata": {},
   "source": [
    "## Sentiment analysis on headlines"
   ]
  },
  {
   "cell_type": "code",
   "execution_count": 11,
   "metadata": {},
   "outputs": [],
   "source": [
    "articles.headline = articles.headline.str.lower()\n",
    "articles['headlineWordcount'] = articles.headline.apply(len) "
   ]
  },
  {
   "cell_type": "code",
   "execution_count": 12,
   "metadata": {},
   "outputs": [
    {
     "name": "stderr",
     "output_type": "stream",
     "text": [
      "100%|█████████████████████████████████████████████████████████████████████████████| 9172/9172 [00:35<00:00, 261.18it/s]\n"
     ]
    }
   ],
   "source": [
    "articles['headlinePolarity'] = articles.headline.progress_apply(naiveSentiment)"
   ]
  },
  {
   "cell_type": "code",
   "execution_count": 13,
   "metadata": {},
   "outputs": [
    {
     "data": {
      "text/plain": [
       "count    9172.000000\n",
       "mean       -0.288637\n",
       "std         1.116920\n",
       "min        -5.375000\n",
       "25%        -1.000000\n",
       "50%        -0.375000\n",
       "75%         0.500000\n",
       "max         4.000000\n",
       "Name: headlinePolarity, dtype: float64"
      ]
     },
     "execution_count": 13,
     "metadata": {},
     "output_type": "execute_result"
    }
   ],
   "source": [
    "articles.headlinePolarity.describe()"
   ]
  },
  {
   "cell_type": "code",
   "execution_count": 14,
   "metadata": {},
   "outputs": [
    {
     "data": {
      "text/plain": [
       "<matplotlib.axes._subplots.AxesSubplot at 0x1814da89408>"
      ]
     },
     "execution_count": 14,
     "metadata": {},
     "output_type": "execute_result"
    },
    {
     "data": {
      "image/png": "[encoded data removed]",
      "text/plain": [
       "<Figure size 432x288 with 1 Axes>"
      ]
     },
     "metadata": {
      "needs_background": "light"
     },
     "output_type": "display_data"
    }
   ],
   "source": [
    "articles.headlinePolarity.hist()"
   ]
  },
  {
   "cell_type": "markdown",
   "metadata": {},
   "source": [
    "## Visualisations"
   ]
  },
  {
   "cell_type": "code",
   "execution_count": 15,
   "metadata": {},
   "outputs": [
    {
     "data": {
      "text/plain": [
       "Text(0, 0.5, 'sentiment')"
      ]
     },
     "execution_count": 15,
     "metadata": {},
     "output_type": "execute_result"
    },
    {
     "data": {
      "image/png": "[encoded data removed]",
      "text/plain": [
       "<Figure size 432x288 with 1 Axes>"
      ]
     },
     "metadata": {
      "needs_background": "light"
     },
     "output_type": "display_data"
    }
   ],
   "source": [
    "resp = articles.groupby('publicationDay').articlePolarity.mean()\n",
    "plt.plot(resp)\n",
    "plt.title('Average sentiment score per Day')\n",
    "plt.xlabel('Days')\n",
    "plt.ylabel('sentiment')"
   ]
  },
  {
   "cell_type": "code",
   "execution_count": 16,
   "metadata": {},
   "outputs": [
    {
     "data": {
      "text/plain": [
       "Text(0, 0.5, 'Sentiment')"
      ]
     },
     "execution_count": 16,
     "metadata": {},
     "output_type": "execute_result"
    },
    {
     "data": {
      "image/png": "[encoded data removed]",
      "text/plain": [
       "<Figure size 432x288 with 1 Axes>"
      ]
     },
     "metadata": {
      "needs_background": "light"
     },
     "output_type": "display_data"
    }
   ],
   "source": [
    "resp = articles.groupby('publicationWeek').articlePolarity.mean()\n",
    "plt.plot(resp)\n",
    "plt.title('Average sentiment score per Week')\n",
    "plt.xlabel('Weeks')\n",
    "plt.ylabel('Sentiment')"
   ]
  },
  {
   "cell_type": "code",
   "execution_count": 17,
   "metadata": {},
   "outputs": [],
   "source": [
    "articles.to_json('articles_sentiment.json')"
   ]
  }
 ],
 "metadata": {
  "kernelspec": {
   "display_name": "Python 3",
   "language": "python",
   "name": "python3"
  },
  "language_info": {
   "codemirror_mode": {
    "name": "ipython",
    "version": 3
   },
   "file_extension": ".py",
   "mimetype": "text/x-python",
   "name": "python",
   "nbconvert_exporter": "python",
   "pygments_lexer": "ipython3",
   "version": "3.7.7"
  }
 },
 "nbformat": 4,
 "nbformat_minor": 4
}
